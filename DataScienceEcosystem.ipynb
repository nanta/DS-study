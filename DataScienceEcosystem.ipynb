{
 "cells": [
  {
   "cell_type": "markdown",
   "id": "e7c5445a-46fe-4482-9536-54cb898abae3",
   "metadata": {},
   "source": [
    "# Data Science Tools and Ecosystem"
   ]
  },
  {
   "cell_type": "markdown",
   "id": "d3eadf3e-4502-449a-9ed5-6364f2f8bf5b",
   "metadata": {},
   "source": [
    "In this notebook, Data Science Tools and Ecosystem are summarized."
   ]
  },
  {
   "cell_type": "markdown",
   "id": "2451d343-da44-4892-8dac-63fb065d5860",
   "metadata": {},
   "source": [
    "Some of the popular languages that Data Scientists use are:\n",
    "1. Python\n",
    "2. R\n",
    "3. SQL"
   ]
  },
  {
   "cell_type": "markdown",
   "id": "4568555a-580e-4353-a030-7796d6ba3e8f",
   "metadata": {},
   "source": [
    "Some of the commonly used libraries used by Data Scientists include:\n",
    "1. TensorFlow \n",
    "1. NumPy\n",
    "1. SciPy\n",
    "1. Pandas\n",
    "1. Matplotlib"
   ]
  },
  {
   "cell_type": "markdown",
   "id": "ccdd4244-4a45-4730-94f8-c4b502780b33",
   "metadata": {},
   "source": [
    "### Below are a few examples of evaluating arithmetic expressions in Python"
   ]
  },
  {
   "cell_type": "markdown",
   "id": "314ff3fc-a531-4cf6-99d8-46a8724c9556",
   "metadata": {},
   "source": [
    "This a simple arithmetic expression to mutiply then add integers"
   ]
  },
  {
   "cell_type": "code",
   "execution_count": 1,
   "id": "1309ae81-6e97-46ea-8e1b-5bfa0ef6ee56",
   "metadata": {
    "tags": []
   },
   "outputs": [
    {
     "data": {
      "text/plain": [
       "17"
      ]
     },
     "execution_count": 1,
     "metadata": {},
     "output_type": "execute_result"
    }
   ],
   "source": [
    "(3*4)+5"
   ]
  },
  {
   "cell_type": "markdown",
   "id": "8a8ae070-b2dc-403d-85f3-3fe3bd4b2f68",
   "metadata": {},
   "source": [
    "This will convert 200 minutes to hours by diving by 60"
   ]
  },
  {
   "cell_type": "code",
   "execution_count": 2,
   "id": "c134d7d0-ef84-4acd-ac65-3f6300c44bb0",
   "metadata": {
    "tags": []
   },
   "outputs": [
    {
     "data": {
      "text/plain": [
       "3.3333333333333335"
      ]
     },
     "execution_count": 2,
     "metadata": {},
     "output_type": "execute_result"
    }
   ],
   "source": [
    "200/60"
   ]
  },
  {
   "cell_type": "markdown",
   "id": "160c3008-875a-4a60-8eb8-2b6c747c3eb1",
   "metadata": {},
   "source": [
    "**Objectives:**"
   ]
  },
  {
   "cell_type": "markdown",
   "id": "69c57076-f230-4f6c-aa04-b75bcbcfb284",
   "metadata": {},
   "source": [
    "* create Jupyter notebook\n",
    "* Create markdown cells with headings and text\n",
    "* solve simple arithmetic expressions"
   ]
  },
  {
   "cell_type": "markdown",
   "id": "d7440de8-943b-4c13-ad67-dfaa50500607",
   "metadata": {},
   "source": [
    "**Author**"
   ]
  },
  {
   "cell_type": "markdown",
   "id": "7019e362-670d-45e9-bc22-e618d3f6691e",
   "metadata": {},
   "source": [
    "Natalia"
   ]
  },
  {
   "cell_type": "code",
   "execution_count": null,
   "id": "b9c6edce-34a5-413d-9e5e-6e6813d478bf",
   "metadata": {},
   "outputs": [],
   "source": []
  }
 ],
 "metadata": {
  "kernelspec": {
   "display_name": "Python",
   "language": "python",
   "name": "conda-env-python-py"
  },
  "language_info": {
   "codemirror_mode": {
    "name": "ipython",
    "version": 3
   },
   "file_extension": ".py",
   "mimetype": "text/x-python",
   "name": "python",
   "nbconvert_exporter": "python",
   "pygments_lexer": "ipython3",
   "version": "3.7.12"
  }
 },
 "nbformat": 4,
 "nbformat_minor": 5
}
